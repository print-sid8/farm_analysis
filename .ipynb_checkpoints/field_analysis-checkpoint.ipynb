{
 "cells": [
  {
   "cell_type": "code",
   "execution_count": null,
   "metadata": {},
   "outputs": [],
   "source": [
    "## Imports and setting up GDAL environment variables\n",
    "import os, sys\n",
    "import requests as rq\n",
    "import json\n",
    "\n",
    "import logging\n",
    "\n",
    "import geopandas as gpd\n",
    "\n",
    "import numpy as np\n",
    "\n",
    "from PIL import Image\n",
    "\n",
    "import shapely\n",
    "import shapely.wkt\n",
    "from shapely.ops import transform as shapely_transform\n",
    "from shapely.geometry import shape, MultiPolygon\n",
    "\n",
    "import pyproj\n",
    "from pyproj import Proj\n",
    "\n",
    "import rasterio as rio\n",
    "from rasterio.mask import mask\n",
    "\n",
    "import folium\n",
    "from folium import plugins"
   ]
  },
  {
   "cell_type": "code",
   "execution_count": null,
   "metadata": {},
   "outputs": [],
   "source": [
    "# setting env variables\n",
    "os.environ['GDAL_HTTP_COOKIEFILE'] = '~/cookies.txt'\n",
    "os.environ['GDAL_HTTP_COOKIEJAR'] = '~/cookies.txt'\n",
    "os.environ['GDAL_DISABLE_READDIR_ON_OPEN'] = 'YES'\n",
    "os.environ['CPL_VSIL_CURL_ALLOWED_EXTENSIONS'] ='TIF'\n",
    "np.seterr(divide='ignore', invalid='ignore')\n",
    "\n",
    "gpd.io.file.fiona.drvsupport.supported_drivers['KML'] = 'rw'\n",
    "\n",
    "logger = logging.getLogger(__name__)\n",
    "logging.basicConfig(stream=sys.stdout, level=logging.INFO)"
   ]
  },
  {
   "cell_type": "code",
   "execution_count": null,
   "metadata": {},
   "outputs": [],
   "source": [
    "# functions\n",
    "\n",
    "def add_geojson_to_map(geojson, map):\n",
    "    folium.GeoJson(geojson['geometry'],\n",
    "        name = geojson['properties']['id'],\n",
    "        zoom_on_click=True,\n",
    "        style_function=styles).add_to(map)\n",
    "\n",
    "def add_array_to_map(array,bounds,name):\n",
    "    folium.raster_layers.ImageOverlay(\n",
    "        image=array,\n",
    "        name=name,\n",
    "        opacity=1,\n",
    "        bounds= boundary\n",
    "    ).add_to(m)\n",
    "\n",
    "def get_wgs_coords(lat,lon,crs):\n",
    "\n",
    "    inProj = Proj(crs)\n",
    "    outProj = Proj('epsg:4326')\n",
    "    x1,y1 = lon,lat\n",
    "    x2,y2 = transform(inProj,outProj,x1,y1)\n",
    "    return x2,y2"
   ]
  },
  {
   "cell_type": "code",
   "execution_count": null,
   "metadata": {},
   "outputs": [],
   "source": [
    "# keeping a dictionary of custom base maps for folium\n",
    "basemaps = {\n",
    "    'Google Maps': folium.TileLayer(\n",
    "        tiles = 'https://mt1.google.com/vt/lyrs=m&x={x}&y={y}&z={z}',\n",
    "        attr = 'Google',\n",
    "        name = 'Google Maps',\n",
    "        overlay = True,\n",
    "        control = True\n",
    "    ),\n",
    "    'Google Satellite': folium.TileLayer(\n",
    "        tiles = 'https://mt1.google.com/vt/lyrs=s&x={x}&y={y}&z={z}',\n",
    "        attr = 'Google',\n",
    "        name = 'Google Satellite',\n",
    "        overlay = True,\n",
    "        control = True\n",
    "    ),\n",
    "    'Google Terrain': folium.TileLayer(\n",
    "        tiles = 'https://mt1.google.com/vt/lyrs=p&x={x}&y={y}&z={z}',\n",
    "        attr = 'Google',\n",
    "        name = 'Google Terrain',\n",
    "        overlay = True,\n",
    "        control = True\n",
    "    ),\n",
    "    'Google Satellite Hybrid': folium.TileLayer(\n",
    "        tiles = 'https://mt1.google.com/vt/lyrs=y&x={x}&y={y}&z={z}',\n",
    "        attr = 'Google',\n",
    "        name = 'Google Satellite',\n",
    "        overlay = True,\n",
    "        control = True\n",
    "    )\n",
    "}\n",
    "\n",
    "\n",
    "styles =lambda feature: {\n",
    "        \"fillColor\": \"blue\",\n",
    "        \"color\": \"white\",\n",
    "        \"weight\": 2,\n",
    "        \"dashArray\": \"5, 5\"}"
   ]
  },
  {
   "cell_type": "code",
   "execution_count": null,
   "metadata": {},
   "outputs": [],
   "source": [
    "# Reading given KML files, and appending them to one dataframe\n",
    "\n",
    "k15_df = gpd.read_file('k15.kml', driver='KML')\n",
    "k26_df = gpd.read_file('k26.kml', driver='KML')\n",
    "\n",
    "kml_df = k15_df.append(k26_df)\n",
    "\n",
    "kml_df"
   ]
  },
  {
   "cell_type": "code",
   "execution_count": null,
   "metadata": {},
   "outputs": [],
   "source": [
    "# getting bounding coords of both farms\n",
    "\n",
    "outer_bounds = kml_df.total_bounds.tolist()\n",
    "outer_bounds"
   ]
  },
  {
   "cell_type": "markdown",
   "metadata": {},
   "source": [
    "## using STAC endpoint of Sentinel 2 to get requried images"
   ]
  },
  {
   "cell_type": "code",
   "execution_count": null,
   "metadata": {},
   "outputs": [],
   "source": [
    "from pystac_client import Client\n",
    "\n",
    "catalog = Client.open(\"https://earth-search.aws.element84.com/v0\")\n",
    "\n",
    "\n",
    "mysearch = catalog.search(\n",
    "    collections=['sentinel-s2-l2a-cogs'], \n",
    "    bbox= outer_bounds, \n",
    "    datetime=\"2019-09-01/2020-03-30\")\n",
    "print(f\"{mysearch.matched()} items found\")"
   ]
  },
  {
   "cell_type": "code",
   "execution_count": null,
   "metadata": {},
   "outputs": [],
   "source": [
    "import stackstac"
   ]
  },
  {
   "cell_type": "code",
   "execution_count": null,
   "metadata": {},
   "outputs": [],
   "source": [
    "## using stackstac to create a Dask Xarray from STAC metadata\n",
    "\n",
    "%time\n",
    "stack = stackstac.stack(mysearch.items_as_collection(),bounds_latlon=outer_bounds)"
   ]
  },
  {
   "cell_type": "code",
   "execution_count": null,
   "metadata": {},
   "outputs": [],
   "source": [
    "stack"
   ]
  },
  {
   "cell_type": "code",
   "execution_count": null,
   "metadata": {},
   "outputs": [],
   "source": [
    "#filtering thru the dataset for required bands and cloud cover, and making required Indices\n",
    "\n",
    "lowcloud = stack[stack[\"eo:cloud_cover\"] < 20]\n",
    "\n",
    "nir, red, swir = lowcloud.sel(band=\"B08\"), lowcloud.sel(band=\"B04\"), lowcloud.sel(band=\"B11\")\n",
    "\n",
    "ndvi = (nir - red) / (nir + red)\n",
    "ndmi = (nir - swir) / (nir + swir)"
   ]
  },
  {
   "cell_type": "markdown",
   "metadata": {},
   "source": [
    "## Using Dask for computation, makes large area/long time series calculations faster"
   ]
  },
  {
   "cell_type": "code",
   "execution_count": null,
   "metadata": {},
   "outputs": [],
   "source": [
    "from dask.distributed import Client, LocalCluster\n",
    "cluster = LocalCluster(memory_limit='1GB')\n",
    "client = Client(cluster)"
   ]
  },
  {
   "cell_type": "code",
   "execution_count": null,
   "metadata": {},
   "outputs": [],
   "source": [
    "client"
   ]
  },
  {
   "cell_type": "code",
   "execution_count": null,
   "metadata": {},
   "outputs": [],
   "source": [
    "monthly_ndvi = ndvi.resample(time=\"M\").mean(dim=\"time\")"
   ]
  },
  {
   "cell_type": "code",
   "execution_count": null,
   "metadata": {},
   "outputs": [],
   "source": [
    "monthly_ndmi = ndmi.resample(time=\"M\").mean(dim=\"time\")"
   ]
  },
  {
   "cell_type": "code",
   "execution_count": null,
   "metadata": {},
   "outputs": [],
   "source": [
    "m_ndmi = monthly_ndmi.compute()"
   ]
  },
  {
   "cell_type": "code",
   "execution_count": null,
   "metadata": {},
   "outputs": [],
   "source": [
    "m_ndmi.shape"
   ]
  },
  {
   "cell_type": "code",
   "execution_count": null,
   "metadata": {},
   "outputs": [],
   "source": [
    "m_ndvi = monthly_ndvi.compute()"
   ]
  },
  {
   "cell_type": "code",
   "execution_count": null,
   "metadata": {},
   "outputs": [],
   "source": [
    "m_ndvi.shape"
   ]
  },
  {
   "cell_type": "code",
   "execution_count": null,
   "metadata": {},
   "outputs": [],
   "source": [
    "import matplotlib.pyplot as plt"
   ]
  },
  {
   "cell_type": "code",
   "execution_count": null,
   "metadata": {},
   "outputs": [],
   "source": [
    "plt.imshow(m_ndvi[0])"
   ]
  },
  {
   "cell_type": "markdown",
   "metadata": {},
   "source": [
    "### adding metadata to Xarray to write better geotiffs"
   ]
  },
  {
   "cell_type": "code",
   "execution_count": null,
   "metadata": {},
   "outputs": [],
   "source": [
    "import rioxarray"
   ]
  },
  {
   "cell_type": "code",
   "execution_count": null,
   "metadata": {},
   "outputs": [],
   "source": [
    "m_ndmi.attrs['nodata'] = np.nan\n",
    "m_ndvi.attrs['nodata'] = np.nan\n",
    "\n",
    "m_ndmi.attrs['crs'] = m_ndmi.rio.crs\n",
    "m_ndvi.attrs['crs'] = m_ndvi.rio.crs"
   ]
  },
  {
   "cell_type": "code",
   "execution_count": null,
   "metadata": {},
   "outputs": [],
   "source": [
    "m_ndvi.rio.to_raster('monthly_ndvi.tif')"
   ]
  },
  {
   "cell_type": "code",
   "execution_count": null,
   "metadata": {},
   "outputs": [],
   "source": [
    "m_ndmi.rio.to_raster('monthly_ndmi.tif')"
   ]
  },
  {
   "cell_type": "code",
   "execution_count": null,
   "metadata": {},
   "outputs": [],
   "source": []
  },
  {
   "cell_type": "markdown",
   "metadata": {},
   "source": [
    "## Prepping for PNG creation"
   ]
  },
  {
   "cell_type": "code",
   "execution_count": null,
   "metadata": {},
   "outputs": [],
   "source": [
    "## reseting index to get correct index numbering\n",
    "\n",
    "kmldf = kml_df.reset_index()\n",
    "del kmldf['index']"
   ]
  },
  {
   "cell_type": "code",
   "execution_count": null,
   "metadata": {},
   "outputs": [],
   "source": [
    "# converting KML WGS84 coords to UTM zone of image\n",
    "\n",
    "kmldf_utm = kmldf.to_crs(\"EPSG:\"+str(m_ndvi.epsg.values.tolist()))\n",
    "\n",
    "\n",
    "#simplifying the output to make clipping neater\n",
    "\n",
    "kml_sim = kmldf_utm.simplify(tolerance=0.5,preserve_topology=False)\n",
    "\n",
    "\n",
    "# converting to geojson for use in rasterio\n",
    "\n",
    "geoj = json.loads(kml_sim.geometry.to_json())"
   ]
  },
  {
   "cell_type": "code",
   "execution_count": null,
   "metadata": {},
   "outputs": [],
   "source": [
    "ndvi_ds = rio.open('monthly_ndvi.tif')\n",
    "ndmi_ds = rio.open('monthly_ndmi.tif')"
   ]
  },
  {
   "cell_type": "code",
   "execution_count": null,
   "metadata": {},
   "outputs": [],
   "source": [
    "month_lookup = {'0':'2019_10','1':'2019_11','2':'2019_12','3':'2020_01','4':'2020_02','5':'2020_03'}\n",
    "farm_loookup = {'0':'farm_15','1':'farm_26'}"
   ]
  },
  {
   "cell_type": "code",
   "execution_count": null,
   "metadata": {},
   "outputs": [],
   "source": [
    "if not os.path.exists('./farm_15/'):\n",
    "    os.makedirs('./farm_15/')\n",
    "\n",
    "if not os.path.exists('./farm_26/'):\n",
    "    os.makedirs('./farm_26/')"
   ]
  },
  {
   "cell_type": "code",
   "execution_count": null,
   "metadata": {},
   "outputs": [],
   "source": [
    "kwargs = ndvi_ds.profile\n",
    "kwargs['count'] = 1\n",
    "kwargs['nodata'] = 0\n",
    "kwargs['driver'] = 'PNG'\n",
    "kwargs['dtype'] = 'uint8'\n",
    "del kwargs['crs']\n",
    "del kwargs['transform']\n",
    "del kwargs['tiled']\n",
    "del kwargs['interleave']"
   ]
  },
  {
   "cell_type": "code",
   "execution_count": null,
   "metadata": {},
   "outputs": [],
   "source": [
    "kwargs"
   ]
  },
  {
   "cell_type": "markdown",
   "metadata": {},
   "source": [
    "## Creating Colored PNGs for output for both Vegetation and Water stress\n",
    "\n",
    "### The calculation for Vegetation stress is done using the median NDVI value of a month, and highlighting all pixels that lower than \"median - 10% median\"\n",
    "\n",
    "### The calculation for Water stress is done using the median NDMI value of a month, and highlighting all pixels that lower than \"median - 60% median\""
   ]
  },
  {
   "cell_type": "code",
   "execution_count": null,
   "metadata": {},
   "outputs": [],
   "source": [
    "for x in range(len(geoj['features'])):\n",
    "    ndvi_clip, _ = mask(ndvi_ds,[geoj['features'][x]['geometry']],crop=True)\n",
    "    ndmi_clip, _ = mask(ndmi_ds,[geoj['features'][x]['geometry']],crop=True)\n",
    "    \n",
    "    for i in range(ndvi_clip.shape[0]):\n",
    "        \n",
    "        ndvi_stress = np.where(ndvi_clip[i] < np.nanmedian(ndvi_clip[i])-(0.1*np.nanmedian(ndvi_clip[i])),1,0)\n",
    "        \n",
    "        with rio.open(f'./{farm_loookup[str(x)]}/ndvi_stress_{month_lookup[str(i)]}.png', 'w', **kwargs) as d:\n",
    "            d.write(ndvi_stress,1)\n",
    "        \n",
    "        os.system(f\"gdaldem color-relief -alpha './{farm_loookup[str(x)]}/ndvi_stress_{month_lookup[str(i)]}.png' ./color_ndvi.txt './{farm_loookup[str(x)]}/ndvi_stress_{month_lookup[str(i)]}_color.png'\")\n",
    "\n",
    "        if np.nanmedian(ndmi_clip[i]) > 0:\n",
    "            ndmi_stress = np.where(ndmi_clip[i] < np.nanmedian(ndmi_clip[i])-(0.6*np.nanmedian(ndmi_clip[i])),1,0)\n",
    "        else:\n",
    "            ndmi_stress = np.where(ndmi_clip[i] < np.nanmedian(ndmi_clip[i])+(0.6*np.nanmedian(ndmi_clip[i])),1,0)\n",
    "        \n",
    "        with rio.open(f'./{farm_loookup[str(x)]}/ndmi_stress_{month_lookup[str(i)]}.png', 'w', **kwargs) as d:\n",
    "            d.write(ndmi_stress,1)\n",
    "        \n",
    "        os.system(f\"gdaldem color-relief -alpha './{farm_loookup[str(x)]}/ndmi_stress_{month_lookup[str(i)]}.png' ./color_ndmi.txt './{farm_loookup[str(x)]}/ndmi_stress_{month_lookup[str(i)]}_color.png'\")"
   ]
  },
  {
   "cell_type": "markdown",
   "metadata": {},
   "source": [
    "## Finally, visualizing Farm monthly health"
   ]
  },
  {
   "cell_type": "code",
   "execution_count": null,
   "metadata": {},
   "outputs": [],
   "source": [
    "import glob\n",
    "\n",
    "m = folium.Map(location=[kmldf.centroid.y[0],kmldf.centroid.x[0]], tiles='Stamen Terrain', zoom_start=15)\n",
    "\n",
    "for x in range(len(geoj['features'])):\n",
    "    \n",
    "    bottom, left, top, right = kmldf.bounds.minx[x], kmldf.bounds.miny[x], kmldf.bounds.maxx[x], kmldf.bounds.maxy[x]\n",
    "    \n",
    "    boundary = [[left, bottom],[right, top]]\n",
    "    \n",
    "    pngs = sorted(glob.glob(f'./{farm_loookup[str(x)]}/*color.png'))\n",
    "    \n",
    "    for png in pngs:\n",
    "        \n",
    "        png_array = np.array(Image.open(png))\n",
    "\n",
    "        add_array_to_map(png_array, boundary, f\"{farm_loookup[str(x)]}_{png.split('/')[2].split('.')[0]}\")\n",
    "\n",
    "basemaps['Google Maps'].add_to(m)\n",
    "basemaps['Google Satellite Hybrid'].add_to(m)\n",
    "\n",
    "m.add_child(folium.LayerControl())\n",
    "\n",
    "m"
   ]
  },
  {
   "cell_type": "code",
   "execution_count": null,
   "metadata": {},
   "outputs": [],
   "source": []
  }
 ],
 "metadata": {
  "kernelspec": {
   "display_name": "Python 3",
   "language": "python",
   "name": "python3"
  },
  "language_info": {
   "codemirror_mode": {
    "name": "ipython",
    "version": 3
   },
   "file_extension": ".py",
   "mimetype": "text/x-python",
   "name": "python",
   "nbconvert_exporter": "python",
   "pygments_lexer": "ipython3",
   "version": "3.8.8"
  }
 },
 "nbformat": 4,
 "nbformat_minor": 4
}
